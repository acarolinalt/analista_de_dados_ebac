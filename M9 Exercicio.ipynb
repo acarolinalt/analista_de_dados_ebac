{
  "nbformat": 4,
  "nbformat_minor": 0,
  "metadata": {
    "colab": {
      "provenance": [],
      "toc_visible": true
    },
    "kernelspec": {
      "name": "python3",
      "display_name": "Python 3"
    }
  },
  "cells": [
    {
      "cell_type": "markdown",
      "metadata": {
        "id": "KJqp9AANOCtf"
      },
      "source": [
        "<img src=\"https://raw.githubusercontent.com/andre-marcos-perez/ebac-course-utils/main/media/logo/newebac_logo_black_half.png\" alt=\"ebac-logo\">\n",
        "\n",
        "---\n",
        "\n",
        "# **Módulo** | Python: Scripting\n",
        "Caderno de **Exercícios**<br>\n",
        "Professor [André Perez](https://www.linkedin.com/in/andremarcosperez/)\n",
        "\n",
        "---"
      ]
    },
    {
      "cell_type": "markdown",
      "metadata": {
        "id": "d9jDtUbDOE1-"
      },
      "source": [
        "# **Tópicos**\n",
        "\n",
        "<ol type=\"1\">\n",
        "  <li>Instalando o Python na própria máquina;</li>\n",
        "  <li>Executando código Python no terminal;</li>\n",
        "  <li>Criando arquivos de script Python.</li>\n",
        "</ol>"
      ]
    },
    {
      "cell_type": "markdown",
      "metadata": {
        "id": "SmoHgt-lwkpD"
      },
      "source": [
        "---"
      ]
    },
    {
      "cell_type": "markdown",
      "metadata": {
        "id": "GABI6OW8OfQ2"
      },
      "source": [
        "# **Exercícios**"
      ]
    },
    {
      "cell_type": "markdown",
      "metadata": {
        "id": "muD1vxozykSC"
      },
      "source": [
        "## 0\\. Preparando o ambiente"
      ]
    },
    {
      "cell_type": "markdown",
      "metadata": {
        "id": "4TT1IaG2DOuR"
      },
      "source": [
        " - Instalando o Python e o PIP na sua máquina."
      ]
    },
    {
      "cell_type": "markdown",
      "metadata": {
        "id": "eTI82AggBgY3"
      },
      "source": [
        "Nestes exercícios você vai precisar do Python (versão 3.x) e do PIP instalados na sua máquina. Abra o seu terminal (windows `cmd` ou linux/mcos `terminal`) e\n",
        "verifique se ambos estão instalados na sua máquina.\n",
        "\n",
        "```shell\n",
        "python -V # possível resultado: Python 3.8.5\n",
        "pip -V # possível resultado: pip 20.0.2 ...\n",
        "```\n",
        "\n",
        "Se pelo menos um dos softwares não estiver instalados na sua máquina, siga as instruções da aula para instala-los. Se você tiver enfrentando algum problema, entre em contato com o tutor."
      ]
    },
    {
      "cell_type": "markdown",
      "metadata": {
        "id": "PfJij-X6DS3o"
      },
      "source": [
        " - Instalando os pacotes necessários."
      ]
    },
    {
      "cell_type": "markdown",
      "metadata": {
        "id": "qfhQuCEaDb3H"
      },
      "source": [
        "Instale os pacotes necessários para conduzir os exercícios.\n",
        "\n",
        "```shell\n",
        "pip install pandas==1.2.4 seaborn==0.11.1 requests==2.25.1\n",
        "```"
      ]
    },
    {
      "cell_type": "markdown",
      "metadata": {
        "id": "zMN1Q3jdwoJm"
      },
      "source": [
        "---"
      ]
    },
    {
      "cell_type": "markdown",
      "metadata": {
        "id": "GWgNoJN8DHyY"
      },
      "source": [
        "## 1\\. Script de Extração"
      ]
    },
    {
      "cell_type": "markdown",
      "metadata": {
        "id": "YynK1vf2DHyj"
      },
      "source": [
        "O *script* para extrair a taxa CDI do site da B3 foi adaptado para ser executado 10 vezes para gerar nossa base de dados. Na sua máquina, crie o arquivo `extracao.py` com o `script` abaixo e execute-o com o comando:\n",
        "\n",
        "```shell\n",
        "python extracao.py\n",
        "```\n",
        "\n",
        "No final, você deve ter o arquivo `taxa-cdi.csv` com os dados extraídos."
      ]
    },
    {
      "cell_type": "code",
      "metadata": {
        "id": "hVK8QyFvE-wk"
      },
      "source": [
        "import os\n",
        "import time\n",
        "import json\n",
        "from random import random\n",
        "from datetime import datetime\n",
        "\n",
        "import requests\n",
        "\n",
        "URL = 'https://www2.cetip.com.br/ConsultarTaxaDi/ConsultarTaxaDICetip.aspx'\n",
        "\n",
        "# Criando a variável data e hora\n",
        "\n",
        "for _ in range(0, 10):\n",
        "\n",
        "  data_e_hora = datetime.now()\n",
        "  data = datetime.strftime(data_e_hora, '%Y/%m/%d')\n",
        "  hora = datetime.strftime(data_e_hora, '%H:%M:%S')\n",
        "\n",
        "  # Captando a taxa CDI do site da B3\n",
        "\n",
        "  try:\n",
        "    response = requests.get(URL)\n",
        "    response.raise_for_status()\n",
        "  except requests.HTTPError as exc:\n",
        "    print(\"Dado não encontrado, continuando.\")\n",
        "    cdi = None\n",
        "  except Exception as exc:\n",
        "    print(\"Erro, parando a execução.\")\n",
        "    raise exc\n",
        "  else:\n",
        "    dado = json.loads(response.text)\n",
        "    cdi = float(dado['taxa'].replace(',', '.')) + (random() - 0.5)\n",
        "\n",
        "  # Verificando se o arquivo \"taxa-cdi.csv\" existe\n",
        "\n",
        "  if os.path.exists('./taxa-cdi.csv') == False:\n",
        "\n",
        "    with open(file='./taxa-cdi.csv', mode='w', encoding='utf8') as fp:\n",
        "      fp.write('data,hora,taxa\\n')\n",
        "\n",
        "  # Salvando dados no arquivo \"taxa-cdi.csv\"\n",
        "\n",
        "  with open(file='./taxa-cdi.csv', mode='a', encoding='utf8') as fp:\n",
        "    fp.write(f'{data},{hora},{cdi}\\n')\n",
        "\n",
        "  time.sleep(2 + (random() - 0.5))\n",
        "\n",
        "print(\"Sucesso\")"
      ],
      "execution_count": null,
      "outputs": []
    },
    {
      "cell_type": "markdown",
      "metadata": {
        "id": "waxn4B2UDHyl"
      },
      "source": [
        "---"
      ]
    },
    {
      "cell_type": "markdown",
      "metadata": {
        "id": "finLQoyyGVmk"
      },
      "source": [
        "## 2\\. Script de Visualização"
      ]
    },
    {
      "cell_type": "markdown",
      "metadata": {
        "id": "99BrnqR4GVmy"
      },
      "source": [
        "Já o *script* para gerar um grafico da taxa CDI do site da B3 foi adaptado para utilizar o pacote Pandas. Na sua máquina, crie o arquivo `visualizacao.py` com o `script` abaixo e execute-o com o comando:\n",
        "\n",
        "```shell\n",
        "python visualizacao.py <nome-do-grafico>\n",
        "```\n",
        "\n",
        "O *script* espera um parametro de entrada com o nome do gráfico, portanto substitua o `<nome-do-grafico>` pelo nome do seu gráfico. No final, você deve ter uma imagem no formato png com o nome passado via parametro contendo a visualização dos dados gerados pelo *script* de extração.."
      ]
    },
    {
      "cell_type": "code",
      "metadata": {
        "id": "ozGsxHbPGVmz"
      },
      "source": [
        "import csv\n",
        "from sys import argv\n",
        "\n",
        "import pandas as pd\n",
        "import seaborn as sns\n",
        "\n",
        "# Extraindo as colunas hora e taxa\n",
        "\n",
        "df = pd.read_csv('./taxa-cdi.csv')\n",
        "\n",
        "# Salvando no grafico\n",
        "\n",
        "grafico = sns.lineplot(x=df['hora'], y=df['taxa'])\n",
        "_ = grafico.set_xticklabels(labels=df['hora'], rotation=90)\n",
        "grafico.get_figure().savefig(f\"{argv[1]}.png\")\n"
      ],
      "execution_count": null,
      "outputs": []
    },
    {
      "cell_type": "markdown",
      "metadata": {
        "id": "As3enQc2GVm1"
      },
      "source": [
        "---"
      ]
    },
    {
      "cell_type": "markdown",
      "metadata": {
        "id": "SS1PxxfHILHs"
      },
      "source": [
        "## 3\\. Combinando os scripts de extração e visualização."
      ]
    },
    {
      "cell_type": "markdown",
      "metadata": {
        "id": "R4hMJ6D2ILH3"
      },
      "source": [
        "Combine os *scripts* `visualizacao.py` e `extracao.py` no arquivo `analise.py` e execute-o na sua máquina, ele deve retornar os mesmos resultados: o arquivo csv e a imagem no formato png com o título escolhido via parametro de entrada. Procure seguir a organização proposta na aula (PEP8).\n",
        "\n",
        "```shell\n",
        "python analise.py <nome-do-grafico>\n",
        "```\n",
        "\n",
        "Além disso, copie o código na célula abaixo para que o tutor possa avaliar seu exercícios."
      ]
    },
    {
      "cell_type": "code",
      "metadata": {
        "id": "ogZClDvTILH3"
      },
      "source": [
        "# combinação dos scripts de extração e visualização\n",
        "import os\n",
        "import time\n",
        "import json\n",
        "from random import random\n",
        "from datetime import datetime\n",
        "\n",
        "import requests\n",
        "\n",
        "URL = 'https://www2.cetip.com.br/ConsultarTaxaDi/ConsultarTaxaDICetip.aspx'\n",
        "\n",
        "# Criando a variável data e hora\n",
        "\n",
        "for _ in range(0, 10):\n",
        "\n",
        "  data_e_hora = datetime.now()\n",
        "  data = datetime.strftime(data_e_hora, '%Y/%m/%d')\n",
        "  hora = datetime.strftime(data_e_hora, '%H:%M:%S')\n",
        "\n",
        "  # Captando a taxa CDI do site da B3\n",
        "\n",
        "  try:\n",
        "    response = requests.get(URL)\n",
        "    response.raise_for_status()\n",
        "  except requests.HTTPError as exc:\n",
        "    print(\"Dado não encontrado, continuando.\")\n",
        "    cdi = None\n",
        "  except Exception as exc:\n",
        "    print(\"Erro, parando a execução.\")\n",
        "    raise exc\n",
        "  else:\n",
        "    dado = json.loads(response.text)\n",
        "    cdi = float(dado['taxa'].replace(',', '.')) + (random() - 0.5)\n",
        "\n",
        "  # Verificando se o arquivo \"taxa-cdi.csv\" existe\n",
        "\n",
        "  if os.path.exists('./taxa-cdi.csv') == False:\n",
        "\n",
        "    with open(file='./taxa-cdi.csv', mode='w', encoding='utf8') as fp:\n",
        "      fp.write('data,hora,taxa\\n')\n",
        "\n",
        "  # Salvando dados no arquivo \"taxa-cdi.csv\"\n",
        "\n",
        "  with open(file='./taxa-cdi.csv', mode='a', encoding='utf8') as fp:\n",
        "    fp.write(f'{data},{hora},{cdi}\\n')\n",
        "\n",
        "  time.sleep(2 + (random() - 0.5))\n",
        "\n",
        "print(\"Sucesso\")\n",
        "\n",
        "import csv\n",
        "from sys import argv\n",
        "\n",
        "import pandas as pd\n",
        "import seaborn as sns\n",
        "\n",
        "# Extraindo as colunas hora e taxa\n",
        "\n",
        "df = pd.read_csv('./taxa-cdi.csv')\n",
        "\n",
        "# Salvando no grafico\n",
        "\n",
        "grafico = sns.lineplot(x=df['hora'], y=df['taxa'])\n",
        "_ = grafico.set_xticklabels(labels=df['hora'], rotation=90)\n",
        "grafico.get_figure().savefig(f\"{argv[1]}.png\")"
      ],
      "execution_count": null,
      "outputs": []
    },
    {
      "cell_type": "markdown",
      "source": [
        "![grafico_cdi.png](data:image/png;base64,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)"
      ],
      "metadata": {
        "id": "WZ98C1BHfZYV"
      }
    },
    {
      "cell_type": "markdown",
      "source": [
        "## **Desafio**\n",
        "Crie um pacote em Python que implemente uma calculadora com as operações básicas (soma, subtração, multiplicação e divisão) e funções adicionais (potenciação, raiz quadrada e logaritmo) e que possa ser facilmente utilizado em outros projetos.\n",
        "\n",
        "Lembre-se de que você já conhece o nível avançado da linguagem de programação Python e com este desafio, você irá praticar a criação de pacotes em Python, a organização de módulos e scripts em diretórios, além de aprender a tornar o seu código reutilizável e facilmente instalável em outros projetos."
      ],
      "metadata": {
        "id": "R4LtNAvCgs-1"
      }
    },
    {
      "cell_type": "code",
      "source": [
        "#Definindo as operações básicas\n",
        "\n",
        "from math import sqrt, log\n",
        "\n",
        "def soma(a,b):\n",
        "  return a + b\n",
        "\n",
        "def subtracao(a,b):\n",
        "  return a - b\n",
        "\n",
        "def multiplicacao(a,b):\n",
        "  return a*b\n",
        "\n",
        "def divisao(a,b):\n",
        "  if b != 0:\n",
        "    return a/b\n",
        "  else:\n",
        "    return \"Erro: Divisão por zero\"\n",
        "\n",
        "def potenciacao(a,b):\n",
        "  return pow(a,b)\n",
        "\n",
        "def raiz_quadrada(a):\n",
        "  return sqrt(a)\n",
        "\n",
        "def logaritmo(a,b):\n",
        "  return log(a,b)"
      ],
      "metadata": {
        "id": "x8z6M1a1i_oq"
      },
      "execution_count": 55,
      "outputs": []
    },
    {
      "cell_type": "code",
      "source": [
        "#Função para exibir o menu\n",
        "\n",
        "def exibir_menu():\n",
        "  print('Selecione a operação')\n",
        "  print('1.Soma\\n2.Subtração\\n3.Multiplicação\\n4.Divisão\\n5.Potenciação\\n6.Raiz Quadrada\\n7.Logaritmo')\n",
        "\n",
        "#Obtendo entrada do usuário\n",
        "\n",
        "def calcular():\n",
        "  exibir_menu()\n",
        "  operacao = input(\"Digite o número da operação: \")\n",
        "\n",
        "  if operacao == '1':\n",
        "    a = int(input(\"Digite o primeiro número: \"))\n",
        "    b = int(input(\"Digite o segundo número: \"))\n",
        "    resultado = soma(a,b)\n",
        "\n",
        "  elif operacao == '2':\n",
        "    a = int(input(\"Digite o primeiro número: \"))\n",
        "    b = int(input(\"Digite o segundo número: \"))\n",
        "    resultado = subtracao(a,b)\n",
        "\n",
        "  elif operacao == '3':\n",
        "    a = int(input(\"Digite o primeiro número: \"))\n",
        "    b = int(input(\"Digite o segundo número: \"))\n",
        "    resultado = multiplicacao(a,b)\n",
        "\n",
        "  elif operacao == '4':\n",
        "    a = int(input(\"Digite o primeiro número: \"))\n",
        "    b = int(input(\"Digite o segundo número: \"))\n",
        "    resultado = divisao(a,b)\n",
        "\n",
        "  elif operacao == '5':\n",
        "    a = int(input(\"Digite o número da base: \"))\n",
        "    b = int(input(\"Digite o número da potência: \"))\n",
        "    resultado = potenciacao(a,b)\n",
        "\n",
        "  elif operacao == '6':\n",
        "    a = int(input(\"Digite o número: \"))\n",
        "    resultado = raiz_quadrada(a)\n",
        "\n",
        "  elif operacao == '7':\n",
        "    a = int(input(\"Digite a base: \"))\n",
        "    b = int(input(\"Digite o logaritmando: \"))\n",
        "    resultado = logaritmo(a,b)\n",
        "\n",
        "  else:\n",
        "    print(\"Operação Inválida\")\n",
        "    return\n",
        "\n",
        "  print(f\"O resultado é: {resultado}\")"
      ],
      "metadata": {
        "id": "opjjAPeaM7KR"
      },
      "execution_count": 61,
      "outputs": []
    },
    {
      "cell_type": "code",
      "source": [
        "#Executando o programa\n",
        "\n",
        "calcular()"
      ],
      "metadata": {
        "colab": {
          "base_uri": "https://localhost:8080/"
        },
        "id": "ZktwBVbPPkjG",
        "outputId": "1ffbcbc6-d0b9-4677-c90e-b022ed40bfea"
      },
      "execution_count": 62,
      "outputs": [
        {
          "output_type": "stream",
          "name": "stdout",
          "text": [
            "Selecione a operação\n",
            "1.Soma\n",
            "2.Subtração\n",
            "3.Multiplicação\n",
            "4.Divisão\n",
            "5.Potenciação\n",
            "6.Raiz Quadrada\n",
            "7.Logaritmo\n",
            "Digite o número da operação: 9\n",
            "Operação Inválida\n"
          ]
        }
      ]
    },
    {
      "cell_type": "markdown",
      "metadata": {
        "id": "Fx--J2bOILH4"
      },
      "source": [
        "---"
      ]
    }
  ]
}