{
  "nbformat": 4,
  "nbformat_minor": 0,
  "metadata": {
    "colab": {
      "provenance": [],
      "collapsed_sections": [
        "RhqmXiHQo-is"
      ],
      "toc_visible": true
    },
    "kernelspec": {
      "name": "python3",
      "display_name": "Python 3"
    }
  },
  "cells": [
    {
      "cell_type": "markdown",
      "metadata": {
        "id": "KJqp9AANOCtf"
      },
      "source": [
        "<img src=\"https://raw.githubusercontent.com/andre-marcos-perez/ebac-course-utils/main/media/logo/newebac_logo_black_half.png\" alt=\"ebac-logo\">\n",
        "\n",
        "---\n",
        "\n",
        "# **Módulo** | Python: Tratamento de Erros\n",
        "Caderno de **Aula**<br>\n",
        "Professor [André Perez](https://www.linkedin.com/in/andremarcosperez/)\n",
        "\n",
        "---"
      ]
    },
    {
      "cell_type": "markdown",
      "metadata": {
        "id": "d9jDtUbDOE1-"
      },
      "source": [
        "# **Tópicos**\n",
        "\n",
        "<ol type=\"1\">\n",
        "  <li>Tipos de erros;</li>\n",
        "  <li>Erros de sintaxe;</li>\n",
        "  <li>Erros em tempo de execução.</li>\n",
        "</ol>"
      ]
    },
    {
      "cell_type": "markdown",
      "metadata": {
        "id": "SmoHgt-lwkpD"
      },
      "source": [
        "---"
      ]
    },
    {
      "cell_type": "markdown",
      "metadata": {
        "id": "GABI6OW8OfQ2"
      },
      "source": [
        "# **Aulas**"
      ]
    },
    {
      "cell_type": "markdown",
      "metadata": {
        "id": "muD1vxozykSC"
      },
      "source": [
        "## 1\\. Tipos de erros"
      ]
    },
    {
      "cell_type": "markdown",
      "metadata": {
        "id": "E6D5rjlESJ1A"
      },
      "source": [
        "### **1.1. Definição**"
      ]
    },
    {
      "cell_type": "markdown",
      "metadata": {
        "id": "shP6hHQDhjWb"
      },
      "source": [
        " - **Erros de sintaxe**: erros que ocorrem durante a escrita do código."
      ]
    },
    {
      "cell_type": "code",
      "metadata": {
        "id": "4Uf_FRiDnBGu",
        "colab": {
          "base_uri": "https://localhost:8080/"
        },
        "outputId": "01e30abe-c3c2-4ca1-987e-8fd7caa413a4"
      },
      "source": [
        "pessoa = {'nome':'Andre Perez', 'idade': 19}\n",
        "\n",
        "#if pessoa['idade'] > 18\n",
        "#  print(True)\n",
        "\n",
        "if pessoa['idade'] > 18:\n",
        "  print(True)"
      ],
      "execution_count": 7,
      "outputs": [
        {
          "output_type": "stream",
          "name": "stdout",
          "text": [
            "True\n"
          ]
        }
      ]
    },
    {
      "cell_type": "markdown",
      "metadata": {
        "id": "iAEv8XTbqJJD"
      },
      "source": [
        " - **Erros em tempo de execução**: erros que ocorrem durante a execução do código."
      ]
    },
    {
      "cell_type": "markdown",
      "metadata": {
        "id": "6hMXNDbxqQLm"
      },
      "source": [
        "Erros de uso incorreto de tipos de dados."
      ]
    },
    {
      "cell_type": "code",
      "metadata": {
        "id": "pp7zf0LZh3qc"
      },
      "source": [
        "print(1/0)\n",
        "print(1 + 'Andre')"
      ],
      "execution_count": 11,
      "outputs": []
    },
    {
      "cell_type": "markdown",
      "metadata": {
        "id": "YDUpNpizqVYi"
      },
      "source": [
        "Erros de lógica."
      ]
    },
    {
      "cell_type": "code",
      "metadata": {
        "id": "B_B8h-JoqeVB",
        "colab": {
          "base_uri": "https://localhost:8080/",
          "height": 211
        },
        "outputId": "52e1d5bb-d827-4851-8f58-79e31d51a73b"
      },
      "source": [
        "i = 0\n",
        "while True:\n",
        "  ... # bloco de código\n",
        "  i = 1\n",
        "  i + 1\n",
        "  if i > 10: #nunca atinge o break\n",
        "    break\n",
        "\n",
        "print(i)"
      ],
      "execution_count": 15,
      "outputs": [
        {
          "output_type": "error",
          "ename": "KeyboardInterrupt",
          "evalue": "",
          "traceback": [
            "\u001b[0;31m---------------------------------------------------------------------------\u001b[0m",
            "\u001b[0;31mKeyboardInterrupt\u001b[0m                         Traceback (most recent call last)",
            "\u001b[0;32m<ipython-input-15-8a73ef2b204d>\u001b[0m in \u001b[0;36m<cell line: 2>\u001b[0;34m()\u001b[0m\n\u001b[1;32m      4\u001b[0m   \u001b[0mi\u001b[0m \u001b[0;34m=\u001b[0m \u001b[0;36m1\u001b[0m\u001b[0;34m\u001b[0m\u001b[0;34m\u001b[0m\u001b[0m\n\u001b[1;32m      5\u001b[0m   \u001b[0mi\u001b[0m \u001b[0;34m+\u001b[0m \u001b[0;36m1\u001b[0m\u001b[0;34m\u001b[0m\u001b[0;34m\u001b[0m\u001b[0m\n\u001b[0;32m----> 6\u001b[0;31m   \u001b[0;32mif\u001b[0m \u001b[0mi\u001b[0m \u001b[0;34m>\u001b[0m \u001b[0;36m10\u001b[0m\u001b[0;34m:\u001b[0m \u001b[0;31m#nunca atinge o break\u001b[0m\u001b[0;34m\u001b[0m\u001b[0;34m\u001b[0m\u001b[0m\n\u001b[0m\u001b[1;32m      7\u001b[0m     \u001b[0;32mbreak\u001b[0m\u001b[0;34m\u001b[0m\u001b[0;34m\u001b[0m\u001b[0m\n\u001b[1;32m      8\u001b[0m \u001b[0;34m\u001b[0m\u001b[0m\n",
            "\u001b[0;31mKeyboardInterrupt\u001b[0m: "
          ]
        }
      ]
    },
    {
      "cell_type": "markdown",
      "metadata": {
        "id": "4rRCvy_UURrM"
      },
      "source": [
        "## 2\\. Erros de sintaxe"
      ]
    },
    {
      "cell_type": "markdown",
      "metadata": {
        "id": "cOZDKbe6URrb"
      },
      "source": [
        "### **2.1. Definição**"
      ]
    },
    {
      "cell_type": "markdown",
      "metadata": {
        "id": "uKn9kMbENShL"
      },
      "source": [
        "São erros que ocorrem durante a escrita do código. O trecho do código **não é** executado."
      ]
    },
    {
      "cell_type": "code",
      "metadata": {
        "id": "lTXnq6g7ONuL"
      },
      "source": [
        "carrinho_compras = [{'id': 3184, 'preco': 37.65, 'qtd': 10}, {'id': 1203, 'preco': 81.20, 'qtd': 2}, {'id': 8921, 'preco': 15.90, 'qtd': 2}]"
      ],
      "execution_count": 16,
      "outputs": []
    },
    {
      "cell_type": "markdown",
      "metadata": {
        "id": "UmVLiaQsN_Zp"
      },
      "source": [
        "**Exemplo**: Esquecer o 'dois pontos' `:` no final de estruturas de condição, repetição, etc."
      ]
    },
    {
      "cell_type": "code",
      "metadata": {
        "id": "vE8TMx-sOu2p"
      },
      "source": [
        "for produto in carrinho_compras:\n",
        "  ..."
      ],
      "execution_count": 19,
      "outputs": []
    },
    {
      "cell_type": "markdown",
      "metadata": {
        "id": "oQp56cFhNcT_"
      },
      "source": [
        "**Exemplo**: Condição lógica no `else` da estrutura de decisão `if-elif-else`."
      ]
    },
    {
      "cell_type": "code",
      "metadata": {
        "id": "SGumoycvN9z-",
        "colab": {
          "base_uri": "https://localhost:8080/",
          "height": 106
        },
        "outputId": "95b6264b-7580-46bf-b94c-8115badfbf23"
      },
      "source": [
        "for produto in carrinho_compras:\n",
        "  if produto['id'] == 3184:\n",
        "    ...\n",
        "  else produto['id'] == 1203:\n",
        "    ..."
      ],
      "execution_count": 22,
      "outputs": [
        {
          "output_type": "error",
          "ename": "SyntaxError",
          "evalue": "expected ':' (<ipython-input-22-f54c967790ef>, line 4)",
          "traceback": [
            "\u001b[0;36m  File \u001b[0;32m\"<ipython-input-22-f54c967790ef>\"\u001b[0;36m, line \u001b[0;32m4\u001b[0m\n\u001b[0;31m    else produto['id'] == 1203:\u001b[0m\n\u001b[0m         ^\u001b[0m\n\u001b[0;31mSyntaxError\u001b[0m\u001b[0;31m:\u001b[0m expected ':'\n"
          ]
        }
      ]
    },
    {
      "cell_type": "markdown",
      "metadata": {
        "id": "5q6xcwOWURrc"
      },
      "source": [
        "### **2.2. Manipulação**"
      ]
    },
    {
      "cell_type": "markdown",
      "metadata": {
        "id": "ELgoMRAAUSjv"
      },
      "source": [
        "## 3\\. Erros em tempo de execução"
      ]
    },
    {
      "cell_type": "markdown",
      "metadata": {
        "id": "CuLkQY76USjw"
      },
      "source": [
        "### **3.1. Motivação**"
      ]
    },
    {
      "cell_type": "markdown",
      "metadata": {
        "id": "uL8oZfAseZ1d"
      },
      "source": [
        "Você trabalha como analista de dados em uma empresa de telecomunicações. Você precisa fazer uma análise para o time de vendas do quanto a empresa vai receber este mês. Diariamente você recebe do time de engenharia os dados."
      ]
    },
    {
      "cell_type": "code",
      "metadata": {
        "id": "RxdmJ-rMeUYe",
        "colab": {
          "base_uri": "https://localhost:8080/"
        },
        "outputId": "104c9218-60be-4bec-f1bf-af22e53c05f0"
      },
      "source": [
        "%%writefile telecom.csv\n",
        "customerID,PaymentMethod,MonthlyCharges,TotalCharges,Churn\n",
        "7010-BRBUU,Credit card (automatic),24.1,1734.65,No\n",
        "9688-YGXVR,Credit card (automatic),88.15,3973.2,No\n",
        "9286-DOJGF,Bank transfer (automatic),74.95,2869.85,Yes\n",
        "6994-KERXL,Electronic check,55.9,238.5,No\n",
        "2181-UAESM,Electronic check,53.45,119.5,No\n",
        "4312-GVYNH,Bank transfer (automatic),49.85,3370.2,No\n",
        "2495-KZNFB,Electronic check,90.65,2989.6,No\n",
        "4367-NHWMM,Mailed check,24.9,24.9,No\n",
        "8898-KASCD,Mailed check,35.55,1309.15,No"
      ],
      "execution_count": 1,
      "outputs": [
        {
          "output_type": "stream",
          "name": "stdout",
          "text": [
            "Writing telecom.csv\n"
          ]
        }
      ]
    },
    {
      "cell_type": "code",
      "metadata": {
        "id": "wqjJOksXfV_Q"
      },
      "source": [
        "from functools import reduce\n",
        "\n",
        "def processar_faturas(nome_arquivo: str) -> float:\n",
        "\n",
        "  faturas = []\n",
        "\n",
        "  with open(file=nome_arquivo, mode='r', encoding='utf8') as arquivo:\n",
        "    linha = arquivo.readline()\n",
        "    linha = arquivo.readline()\n",
        "    while linha:\n",
        "      fatura = float(linha.strip().split(sep=',')[-3])\n",
        "      faturas.append(fatura)\n",
        "      linha = arquivo.readline()\n",
        "\n",
        "  total_a_pagar = reduce(lambda x, y: x + y, faturas)\n",
        "  total_a_pagar = round(total_a_pagar, 2)\n",
        "\n",
        "  return total_a_pagar"
      ],
      "execution_count": 2,
      "outputs": []
    },
    {
      "cell_type": "code",
      "metadata": {
        "id": "CbUyxRG7gBaY",
        "colab": {
          "base_uri": "https://localhost:8080/",
          "height": 280
        },
        "outputId": "12e29c14-ed04-4f62-90fa-78b6355e549e"
      },
      "source": [
        "total_a_pagar = processar_faturas(nome_arquivo='./telecom.csv')\n",
        "print(total_a_pagar)"
      ],
      "execution_count": 5,
      "outputs": [
        {
          "output_type": "error",
          "ename": "ValueError",
          "evalue": "could not convert string to float: 'Credit card (automatic)'",
          "traceback": [
            "\u001b[0;31m---------------------------------------------------------------------------\u001b[0m",
            "\u001b[0;31mValueError\u001b[0m                                Traceback (most recent call last)",
            "\u001b[0;32m<ipython-input-5-0a7a00332e78>\u001b[0m in \u001b[0;36m<cell line: 1>\u001b[0;34m()\u001b[0m\n\u001b[0;32m----> 1\u001b[0;31m \u001b[0mtotal_a_pagar\u001b[0m \u001b[0;34m=\u001b[0m \u001b[0mprocessar_faturas\u001b[0m\u001b[0;34m(\u001b[0m\u001b[0mnome_arquivo\u001b[0m\u001b[0;34m=\u001b[0m\u001b[0;34m'./telecom.csv'\u001b[0m\u001b[0;34m)\u001b[0m\u001b[0;34m\u001b[0m\u001b[0;34m\u001b[0m\u001b[0m\n\u001b[0m\u001b[1;32m      2\u001b[0m \u001b[0mprint\u001b[0m\u001b[0;34m(\u001b[0m\u001b[0mtotal_a_pagar\u001b[0m\u001b[0;34m)\u001b[0m\u001b[0;34m\u001b[0m\u001b[0;34m\u001b[0m\u001b[0m\n",
            "\u001b[0;32m<ipython-input-2-47c8e4db5fe5>\u001b[0m in \u001b[0;36mprocessar_faturas\u001b[0;34m(nome_arquivo)\u001b[0m\n\u001b[1;32m      9\u001b[0m     \u001b[0mlinha\u001b[0m \u001b[0;34m=\u001b[0m \u001b[0marquivo\u001b[0m\u001b[0;34m.\u001b[0m\u001b[0mreadline\u001b[0m\u001b[0;34m(\u001b[0m\u001b[0;34m)\u001b[0m\u001b[0;34m\u001b[0m\u001b[0;34m\u001b[0m\u001b[0m\n\u001b[1;32m     10\u001b[0m     \u001b[0;32mwhile\u001b[0m \u001b[0mlinha\u001b[0m\u001b[0;34m:\u001b[0m\u001b[0;34m\u001b[0m\u001b[0;34m\u001b[0m\u001b[0m\n\u001b[0;32m---> 11\u001b[0;31m       \u001b[0mfatura\u001b[0m \u001b[0;34m=\u001b[0m \u001b[0mfloat\u001b[0m\u001b[0;34m(\u001b[0m\u001b[0mlinha\u001b[0m\u001b[0;34m.\u001b[0m\u001b[0mstrip\u001b[0m\u001b[0;34m(\u001b[0m\u001b[0;34m)\u001b[0m\u001b[0;34m.\u001b[0m\u001b[0msplit\u001b[0m\u001b[0;34m(\u001b[0m\u001b[0msep\u001b[0m\u001b[0;34m=\u001b[0m\u001b[0;34m','\u001b[0m\u001b[0;34m)\u001b[0m\u001b[0;34m[\u001b[0m\u001b[0;34m-\u001b[0m\u001b[0;36m3\u001b[0m\u001b[0;34m]\u001b[0m\u001b[0;34m)\u001b[0m\u001b[0;34m\u001b[0m\u001b[0;34m\u001b[0m\u001b[0m\n\u001b[0m\u001b[1;32m     12\u001b[0m       \u001b[0mfaturas\u001b[0m\u001b[0;34m.\u001b[0m\u001b[0mappend\u001b[0m\u001b[0;34m(\u001b[0m\u001b[0mfatura\u001b[0m\u001b[0;34m)\u001b[0m\u001b[0;34m\u001b[0m\u001b[0;34m\u001b[0m\u001b[0m\n\u001b[1;32m     13\u001b[0m       \u001b[0mlinha\u001b[0m \u001b[0;34m=\u001b[0m \u001b[0marquivo\u001b[0m\u001b[0;34m.\u001b[0m\u001b[0mreadline\u001b[0m\u001b[0;34m(\u001b[0m\u001b[0;34m)\u001b[0m\u001b[0;34m\u001b[0m\u001b[0;34m\u001b[0m\u001b[0m\n",
            "\u001b[0;31mValueError\u001b[0m: could not convert string to float: 'Credit card (automatic)'"
          ]
        }
      ]
    },
    {
      "cell_type": "markdown",
      "metadata": {
        "id": "wWph8dxKiwdj"
      },
      "source": [
        "Em um certo dia, você recebe uma base de dados com a coluna de faturas trocada pela de meios de pagamento."
      ]
    },
    {
      "cell_type": "code",
      "metadata": {
        "id": "b953SJgdi7b3",
        "colab": {
          "base_uri": "https://localhost:8080/"
        },
        "outputId": "dd50d226-447f-4096-f9ff-c8506642fa91"
      },
      "source": [
        "%%writefile telecom.csv\n",
        "customerID,MonthlyCharges,PaymentMethod,TotalCharges,Churn\n",
        "7010-BRBUU,24.1,Credit card (automatic),1734.65,No\n",
        "9688-YGXVR,88.15,Credit card (automatic),3973.2,No\n",
        "9286-DOJGF,74.95,Bank transfer (automatic),2869.85,Yes\n",
        "6994-KERXL,55.9,Electronic check,238.5,No\n",
        "2181-UAESM,53.45,Electronic check,119.5,No\n",
        "4312-GVYNH,49.85,Bank transfer (automatic),3370.2,No\n",
        "2495-KZNFB,90.65,Electronic check,2989.6,No\n",
        "4367-NHWMM,24.9,Mailed check,24.9,No\n",
        "8898-KASCD,35.55,Mailed check,1309.15,No"
      ],
      "execution_count": 6,
      "outputs": [
        {
          "output_type": "stream",
          "name": "stdout",
          "text": [
            "Overwriting telecom.csv\n"
          ]
        }
      ]
    },
    {
      "cell_type": "markdown",
      "metadata": {
        "id": "JENLdmHkUSjx"
      },
      "source": [
        "### **3.2. Definição**"
      ]
    },
    {
      "cell_type": "markdown",
      "metadata": {
        "id": "D-chyvD3Tm7F"
      },
      "source": [
        "São erros que ocorrem durante a execução do código. O trecho do código **é** executado até o erro 'estourar'.\n",
        "São perigosos pois parte do código chega a ser rodado."
      ]
    },
    {
      "cell_type": "markdown",
      "metadata": {
        "id": "mywVr5t8T60j"
      },
      "source": [
        "Erros por uso incorreto de tipos de dados. 'Estoura' exceção. Podem ser manipulados ou passados para frente (`raise`)."
      ]
    },
    {
      "cell_type": "markdown",
      "metadata": {
        "id": "0je_kLq_myEV"
      },
      "source": [
        " - **Exemplo**: Erro de operações numéricas impossíveis"
      ]
    },
    {
      "cell_type": "code",
      "metadata": {
        "id": "2yXpo2dfmm1T"
      },
      "source": [
        "preco = 132.85\n",
        "pessoas = 0"
      ],
      "execution_count": 7,
      "outputs": []
    },
    {
      "cell_type": "code",
      "metadata": {
        "id": "LsrxSe--nI6b",
        "colab": {
          "base_uri": "https://localhost:8080/",
          "height": 141
        },
        "outputId": "181fca98-a77d-4186-cff0-b988b98e80b5"
      },
      "source": [
        "valor_por_pessoa = preco / pessoas"
      ],
      "execution_count": 8,
      "outputs": [
        {
          "output_type": "error",
          "ename": "ZeroDivisionError",
          "evalue": "float division by zero",
          "traceback": [
            "\u001b[0;31m---------------------------------------------------------------------------\u001b[0m",
            "\u001b[0;31mZeroDivisionError\u001b[0m                         Traceback (most recent call last)",
            "\u001b[0;32m<ipython-input-8-995750ad573d>\u001b[0m in \u001b[0;36m<cell line: 1>\u001b[0;34m()\u001b[0m\n\u001b[0;32m----> 1\u001b[0;31m \u001b[0mvalor_por_pessoa\u001b[0m \u001b[0;34m=\u001b[0m \u001b[0mpreco\u001b[0m \u001b[0;34m/\u001b[0m \u001b[0mpessoas\u001b[0m\u001b[0;34m\u001b[0m\u001b[0;34m\u001b[0m\u001b[0m\n\u001b[0m",
            "\u001b[0;31mZeroDivisionError\u001b[0m: float division by zero"
          ]
        }
      ]
    },
    {
      "cell_type": "markdown",
      "metadata": {
        "id": "paZfxkVzm3gW"
      },
      "source": [
        " - **Exemplo**: Erro por combinações de tipos diferentes"
      ]
    },
    {
      "cell_type": "code",
      "metadata": {
        "id": "rrlR9Xv6nErH"
      },
      "source": [
        "nome = 'Andre Perez'\n",
        "idade = 20"
      ],
      "execution_count": 14,
      "outputs": []
    },
    {
      "cell_type": "code",
      "metadata": {
        "id": "IT3ySwYxnX0j",
        "colab": {
          "base_uri": "https://localhost:8080/",
          "height": 141
        },
        "outputId": "8d5be14d-1180-49cf-f836-a75edc4e28d6"
      },
      "source": [
        "apresentacao = 'Fala pessoal, meu nome é ' + nome + ' e eu tenho ' + idade + ' anos'"
      ],
      "execution_count": 15,
      "outputs": [
        {
          "output_type": "error",
          "ename": "TypeError",
          "evalue": "can only concatenate str (not \"int\") to str",
          "traceback": [
            "\u001b[0;31m---------------------------------------------------------------------------\u001b[0m",
            "\u001b[0;31mTypeError\u001b[0m                                 Traceback (most recent call last)",
            "\u001b[0;32m<ipython-input-15-4da5a38e4d90>\u001b[0m in \u001b[0;36m<cell line: 1>\u001b[0;34m()\u001b[0m\n\u001b[0;32m----> 1\u001b[0;31m \u001b[0mapresentacao\u001b[0m \u001b[0;34m=\u001b[0m \u001b[0;34m'Fala pessoal, meu nome é '\u001b[0m \u001b[0;34m+\u001b[0m \u001b[0mnome\u001b[0m \u001b[0;34m+\u001b[0m \u001b[0;34m' e eu tenho '\u001b[0m \u001b[0;34m+\u001b[0m \u001b[0midade\u001b[0m \u001b[0;34m+\u001b[0m \u001b[0;34m' anos'\u001b[0m\u001b[0;34m\u001b[0m\u001b[0;34m\u001b[0m\u001b[0m\n\u001b[0m",
            "\u001b[0;31mTypeError\u001b[0m: can only concatenate str (not \"int\") to str"
          ]
        }
      ]
    },
    {
      "cell_type": "markdown",
      "metadata": {
        "id": "PdIsskJNnors"
      },
      "source": [
        " - **Exemplo**: Erro de indexação de estrutura de dados"
      ]
    },
    {
      "cell_type": "code",
      "metadata": {
        "id": "AL0YPYtqntUc"
      },
      "source": [
        "anos = [2019, 2020, 2021]"
      ],
      "execution_count": 16,
      "outputs": []
    },
    {
      "cell_type": "code",
      "metadata": {
        "id": "1mksjF3inyub",
        "colab": {
          "base_uri": "https://localhost:8080/",
          "height": 159
        },
        "outputId": "94f2e8c5-ebc2-40a2-ce83-701ca0dd63e3"
      },
      "source": [
        "ano_atual = anos[3]\n",
        "print(ano_atual)"
      ],
      "execution_count": 19,
      "outputs": [
        {
          "output_type": "error",
          "ename": "IndexError",
          "evalue": "list index out of range",
          "traceback": [
            "\u001b[0;31m---------------------------------------------------------------------------\u001b[0m",
            "\u001b[0;31mIndexError\u001b[0m                                Traceback (most recent call last)",
            "\u001b[0;32m<ipython-input-19-3dc180df5ed3>\u001b[0m in \u001b[0;36m<cell line: 1>\u001b[0;34m()\u001b[0m\n\u001b[0;32m----> 1\u001b[0;31m \u001b[0mano_atual\u001b[0m \u001b[0;34m=\u001b[0m \u001b[0manos\u001b[0m\u001b[0;34m[\u001b[0m\u001b[0;36m3\u001b[0m\u001b[0;34m]\u001b[0m\u001b[0;34m\u001b[0m\u001b[0;34m\u001b[0m\u001b[0m\n\u001b[0m\u001b[1;32m      2\u001b[0m \u001b[0mprint\u001b[0m\u001b[0;34m(\u001b[0m\u001b[0mano_atual\u001b[0m\u001b[0;34m)\u001b[0m\u001b[0;34m\u001b[0m\u001b[0;34m\u001b[0m\u001b[0m\n",
            "\u001b[0;31mIndexError\u001b[0m: list index out of range"
          ]
        }
      ]
    },
    {
      "cell_type": "code",
      "metadata": {
        "id": "RhjOE1jCn4ZA"
      },
      "source": [
        "cursos = {\n",
        "    'python': {\n",
        "        'nome': 'Python para Análise de Dados', 'duracao': 2.5\n",
        "    },\n",
        "    'sql': {\n",
        "        'nome': 'SQL para Análise de Dados', 'duracao': 2\n",
        "    }\n",
        "}"
      ],
      "execution_count": 22,
      "outputs": []
    },
    {
      "cell_type": "code",
      "metadata": {
        "id": "hUl1PmAAoSqt",
        "colab": {
          "base_uri": "https://localhost:8080/"
        },
        "outputId": "915c89b5-ce1f-4380-e605-04d194e78882"
      },
      "source": [
        "curso_atual = cursos['python']\n",
        "print(curso_atual)"
      ],
      "execution_count": 23,
      "outputs": [
        {
          "output_type": "stream",
          "name": "stdout",
          "text": [
            "{'nome': 'Python para Análise de Dados', 'duracao': 2.5}\n"
          ]
        }
      ]
    },
    {
      "cell_type": "code",
      "metadata": {
        "id": "z0enseDOV3a0",
        "colab": {
          "base_uri": "https://localhost:8080/"
        },
        "outputId": "8765aac6-a4c3-45db-a278-8daf820a5176"
      },
      "source": [
        "curso_atual = cursos['sql']\n",
        "print(curso_atual)"
      ],
      "execution_count": 24,
      "outputs": [
        {
          "output_type": "stream",
          "name": "stdout",
          "text": [
            "{'nome': 'SQL para Análise de Dados', 'duracao': 2}\n"
          ]
        }
      ]
    },
    {
      "cell_type": "code",
      "metadata": {
        "id": "n1-UUc0DV9BZ",
        "colab": {
          "base_uri": "https://localhost:8080/",
          "height": 159
        },
        "outputId": "93fcb68e-2246-46bc-92e2-6771937a5848"
      },
      "source": [
        "curso_atual = cursos['analista']\n",
        "print(curso_atual)\n",
        "\n",
        "#chave que não existe"
      ],
      "execution_count": 25,
      "outputs": [
        {
          "output_type": "error",
          "ename": "KeyError",
          "evalue": "'analista'",
          "traceback": [
            "\u001b[0;31m---------------------------------------------------------------------------\u001b[0m",
            "\u001b[0;31mKeyError\u001b[0m                                  Traceback (most recent call last)",
            "\u001b[0;32m<ipython-input-25-74a81822d547>\u001b[0m in \u001b[0;36m<cell line: 1>\u001b[0;34m()\u001b[0m\n\u001b[0;32m----> 1\u001b[0;31m \u001b[0mcurso_atual\u001b[0m \u001b[0;34m=\u001b[0m \u001b[0mcursos\u001b[0m\u001b[0;34m[\u001b[0m\u001b[0;34m'analista'\u001b[0m\u001b[0;34m]\u001b[0m\u001b[0;34m\u001b[0m\u001b[0;34m\u001b[0m\u001b[0m\n\u001b[0m\u001b[1;32m      2\u001b[0m \u001b[0mprint\u001b[0m\u001b[0;34m(\u001b[0m\u001b[0mcurso_atual\u001b[0m\u001b[0;34m)\u001b[0m\u001b[0;34m\u001b[0m\u001b[0;34m\u001b[0m\u001b[0m\n",
            "\u001b[0;31mKeyError\u001b[0m: 'analista'"
          ]
        }
      ]
    },
    {
      "cell_type": "markdown",
      "metadata": {
        "id": "-NgAOdWLU3LC"
      },
      "source": [
        "**Erros de lógica**. Não 'estoura' exceção. A melhor forma de analise é usar a função `print` para verificar resultados intermediários."
      ]
    },
    {
      "cell_type": "markdown",
      "metadata": {
        "id": "Gjkc5K0jU6zR"
      },
      "source": [
        "   * **Exemplo**: Loops infinitos.\n"
      ]
    },
    {
      "cell_type": "code",
      "metadata": {
        "id": "XpKYdnYtXr8g",
        "colab": {
          "base_uri": "https://localhost:8080/",
          "height": 193
        },
        "outputId": "c23e706c-a680-44cd-8e30-79f56a12042d"
      },
      "source": [
        "controle = 0\n",
        "while True:\n",
        "  ...\n",
        "  controle =+ 1      #atualizando incorretamente (deveria ser controle += 1)\n",
        "  if controle > 10:\n",
        "    break"
      ],
      "execution_count": 26,
      "outputs": [
        {
          "output_type": "error",
          "ename": "KeyboardInterrupt",
          "evalue": "",
          "traceback": [
            "\u001b[0;31m---------------------------------------------------------------------------\u001b[0m",
            "\u001b[0;31mKeyboardInterrupt\u001b[0m                         Traceback (most recent call last)",
            "\u001b[0;32m<ipython-input-26-283186910d50>\u001b[0m in \u001b[0;36m<cell line: 2>\u001b[0;34m()\u001b[0m\n\u001b[1;32m      3\u001b[0m   \u001b[0;34m...\u001b[0m\u001b[0;34m\u001b[0m\u001b[0;34m\u001b[0m\u001b[0m\n\u001b[1;32m      4\u001b[0m   \u001b[0mcontrole\u001b[0m \u001b[0;34m=\u001b[0m\u001b[0;34m+\u001b[0m \u001b[0;36m1\u001b[0m\u001b[0;34m\u001b[0m\u001b[0;34m\u001b[0m\u001b[0m\n\u001b[0;32m----> 5\u001b[0;31m   \u001b[0;32mif\u001b[0m \u001b[0mcontrole\u001b[0m \u001b[0;34m>\u001b[0m \u001b[0;36m10\u001b[0m\u001b[0;34m:\u001b[0m\u001b[0;34m\u001b[0m\u001b[0;34m\u001b[0m\u001b[0m\n\u001b[0m\u001b[1;32m      6\u001b[0m     \u001b[0;32mbreak\u001b[0m\u001b[0;34m\u001b[0m\u001b[0;34m\u001b[0m\u001b[0m\n",
            "\u001b[0;31mKeyboardInterrupt\u001b[0m: "
          ]
        }
      ]
    },
    {
      "cell_type": "code",
      "metadata": {
        "id": "FHQCpKBlUUoX"
      },
      "source": [
        "s = []\n",
        "while True:\n",
        "  s = s + (['CURSO DE PYTHON PARA ANALISE DE DADOS DA EBAC'] * (1000 * 1000 * 1000))"
      ],
      "execution_count": null,
      "outputs": []
    },
    {
      "cell_type": "markdown",
      "metadata": {
        "id": "7YZV1tgvXaTI"
      },
      "source": [
        " - **Exemplo**: Limites de coleções."
      ]
    },
    {
      "cell_type": "code",
      "metadata": {
        "id": "dhaKFGzLWcqy"
      },
      "source": [
        "carrinho_compras = [{'id': 3184, 'preco': 37.65, 'qtd': 10}, {'id': 1203, 'preco': 81.20, 'qtd': 2}, {'id': 8921, 'preco': 15.90, 'qtd': 2}]"
      ],
      "execution_count": 1,
      "outputs": []
    },
    {
      "cell_type": "code",
      "metadata": {
        "id": "yLoXZTNlWdJI",
        "colab": {
          "base_uri": "https://localhost:8080/"
        },
        "outputId": "d9aeb607-97b2-464a-e5d5-d428f8b87efc"
      },
      "source": [
        "valor_total = 0\n",
        "for indice in range(1, len(carrinho_compras)): #não foi considerado o primeiro índice\n",
        "  valor_total += carrinho_compras[indice]['preco'] * carrinho_compras[indice]['qtd']\n",
        "\n",
        "valor_total = round(valor_total, 2)\n",
        "print(valor_total)"
      ],
      "execution_count": 4,
      "outputs": [
        {
          "output_type": "stream",
          "name": "stdout",
          "text": [
            "194.2\n"
          ]
        }
      ]
    },
    {
      "cell_type": "code",
      "metadata": {
        "id": "PUQAWph4XONE",
        "colab": {
          "base_uri": "https://localhost:8080/"
        },
        "outputId": "e387f32b-3281-4a77-a1d7-8d54981f3531"
      },
      "source": [
        "valor_total = 0\n",
        "for produto in carrinho_compras:\n",
        "  valor_total += produto['preco'] * produto['qtd']\n",
        "\n",
        "valor_total = round(valor_total, 2)\n",
        "print(valor_total)"
      ],
      "execution_count": 5,
      "outputs": [
        {
          "output_type": "stream",
          "name": "stdout",
          "text": [
            "570.7\n"
          ]
        }
      ]
    },
    {
      "cell_type": "code",
      "metadata": {
        "id": "f9N0g63TY8E4",
        "colab": {
          "base_uri": "https://localhost:8080/"
        },
        "outputId": "7a408cea-b128-4999-ad12-746792ec29e4"
      },
      "source": [
        "valor_total = 0\n",
        "for indice in range(0, len(carrinho_compras)):\n",
        "  print(carrinho_compras[indice])\n",
        "  valor_total += carrinho_compras[indice]['preco'] * carrinho_compras[indice]['qtd']\n",
        "\n",
        "valor_total = round(valor_total, 2)\n",
        "print(valor_total)"
      ],
      "execution_count": 6,
      "outputs": [
        {
          "output_type": "stream",
          "name": "stdout",
          "text": [
            "{'id': 3184, 'preco': 37.65, 'qtd': 10}\n",
            "{'id': 1203, 'preco': 81.2, 'qtd': 2}\n",
            "{'id': 8921, 'preco': 15.9, 'qtd': 2}\n",
            "570.7\n"
          ]
        }
      ]
    },
    {
      "cell_type": "markdown",
      "metadata": {
        "id": "qcHSzY6kUSjy"
      },
      "source": [
        "### **3.3. Manipulação**"
      ]
    },
    {
      "cell_type": "markdown",
      "metadata": {
        "id": "5BkfnSNoTJEU"
      },
      "source": [
        " - Manipular o erro com a estrutura `try-catch-finally-else`."
      ]
    },
    {
      "cell_type": "code",
      "metadata": {
        "id": "65y8PZIwc0b9",
        "colab": {
          "base_uri": "https://localhost:8080/"
        },
        "outputId": "1b05a5a8-1546-406b-e208-4890020614cb"
      },
      "source": [
        "# anos = [2019, 2020, 2021]\n",
        "anos = {2019, 2020, 2021}\n",
        "\n",
        "try:\n",
        "  ano_atual = anos[3]\n",
        "  print(ano_atual)\n",
        "except IndexError:\n",
        "  print('Lista de anos é menor que o valor escolhido. Espera-se um valor entre 0 e ' + str(len(anos) - 1))\n",
        "except Exception as exc:\n",
        "  print(exc)\n",
        "finally: #é executado independente da exceção\n",
        "  ..."
      ],
      "execution_count": 25,
      "outputs": [
        {
          "output_type": "stream",
          "name": "stdout",
          "text": [
            "'set' object is not subscriptable\n",
            "oi\n"
          ]
        }
      ]
    },
    {
      "cell_type": "markdown",
      "metadata": {
        "id": "DfORrkV1TSH2"
      },
      "source": [
        " - Passar o erro para frente com a estrutura `raise` (para uma outra pessoa lidar com esse erro.)"
      ]
    },
    {
      "cell_type": "code",
      "metadata": {
        "id": "BCEOeOu8dCJ_",
        "colab": {
          "base_uri": "https://localhost:8080/",
          "height": 402
        },
        "outputId": "e81917fe-ce1b-4bb0-f776-ed17b29b773b"
      },
      "source": [
        "anos = [2019, 2020, 2021]\n",
        "# anos = {2019, 2020, 2021}\n",
        "\n",
        "try:\n",
        "  ano_atual = anos[3]\n",
        "  print(ano_atual)\n",
        "except IndexError as exc:\n",
        "  raise Exception('Lista de anos é menor que o valor escolhido. Espera-se um valor entre 0 e ' + str(len(anos) - 1))\n",
        "except Exception as exc:\n",
        "  raise exc"
      ],
      "execution_count": 20,
      "outputs": [
        {
          "output_type": "error",
          "ename": "Exception",
          "evalue": "Lista de anos é menor que o valor escolhido. Espera-se um valor entre 0 e 2",
          "traceback": [
            "\u001b[0;31m---------------------------------------------------------------------------\u001b[0m",
            "\u001b[0;31mIndexError\u001b[0m                                Traceback (most recent call last)",
            "\u001b[0;32m<ipython-input-20-52cf9f7f37ec>\u001b[0m in \u001b[0;36m<cell line: 4>\u001b[0;34m()\u001b[0m\n\u001b[1;32m      4\u001b[0m \u001b[0;32mtry\u001b[0m\u001b[0;34m:\u001b[0m\u001b[0;34m\u001b[0m\u001b[0;34m\u001b[0m\u001b[0m\n\u001b[0;32m----> 5\u001b[0;31m   \u001b[0mano_atual\u001b[0m \u001b[0;34m=\u001b[0m \u001b[0manos\u001b[0m\u001b[0;34m[\u001b[0m\u001b[0;36m3\u001b[0m\u001b[0;34m]\u001b[0m\u001b[0;34m\u001b[0m\u001b[0;34m\u001b[0m\u001b[0m\n\u001b[0m\u001b[1;32m      6\u001b[0m   \u001b[0mprint\u001b[0m\u001b[0;34m(\u001b[0m\u001b[0mano_atual\u001b[0m\u001b[0;34m)\u001b[0m\u001b[0;34m\u001b[0m\u001b[0;34m\u001b[0m\u001b[0m\n",
            "\u001b[0;31mIndexError\u001b[0m: list index out of range",
            "\nDuring handling of the above exception, another exception occurred:\n",
            "\u001b[0;31mException\u001b[0m                                 Traceback (most recent call last)",
            "\u001b[0;32m<ipython-input-20-52cf9f7f37ec>\u001b[0m in \u001b[0;36m<cell line: 4>\u001b[0;34m()\u001b[0m\n\u001b[1;32m      6\u001b[0m   \u001b[0mprint\u001b[0m\u001b[0;34m(\u001b[0m\u001b[0mano_atual\u001b[0m\u001b[0;34m)\u001b[0m\u001b[0;34m\u001b[0m\u001b[0;34m\u001b[0m\u001b[0m\n\u001b[1;32m      7\u001b[0m \u001b[0;32mexcept\u001b[0m \u001b[0mIndexError\u001b[0m \u001b[0;32mas\u001b[0m \u001b[0mexc\u001b[0m\u001b[0;34m:\u001b[0m\u001b[0;34m\u001b[0m\u001b[0;34m\u001b[0m\u001b[0m\n\u001b[0;32m----> 8\u001b[0;31m   \u001b[0;32mraise\u001b[0m \u001b[0mException\u001b[0m\u001b[0;34m(\u001b[0m\u001b[0;34m'Lista de anos é menor que o valor escolhido. Espera-se um valor entre 0 e '\u001b[0m \u001b[0;34m+\u001b[0m \u001b[0mstr\u001b[0m\u001b[0;34m(\u001b[0m\u001b[0mlen\u001b[0m\u001b[0;34m(\u001b[0m\u001b[0manos\u001b[0m\u001b[0;34m)\u001b[0m \u001b[0;34m-\u001b[0m \u001b[0;36m1\u001b[0m\u001b[0;34m)\u001b[0m\u001b[0;34m)\u001b[0m\u001b[0;34m\u001b[0m\u001b[0;34m\u001b[0m\u001b[0m\n\u001b[0m\u001b[1;32m      9\u001b[0m \u001b[0;32mexcept\u001b[0m \u001b[0mException\u001b[0m \u001b[0;32mas\u001b[0m \u001b[0mexc\u001b[0m\u001b[0;34m:\u001b[0m\u001b[0;34m\u001b[0m\u001b[0;34m\u001b[0m\u001b[0m\n\u001b[1;32m     10\u001b[0m   \u001b[0;32mraise\u001b[0m \u001b[0mexc\u001b[0m\u001b[0;34m\u001b[0m\u001b[0;34m\u001b[0m\u001b[0m\n",
            "\u001b[0;31mException\u001b[0m: Lista de anos é menor que o valor escolhido. Espera-se um valor entre 0 e 2"
          ]
        }
      ]
    },
    {
      "cell_type": "markdown",
      "metadata": {
        "id": "Nq0WCx8HUSjz"
      },
      "source": [
        "### **3.4. Revisitando a motivação**"
      ]
    },
    {
      "cell_type": "code",
      "metadata": {
        "id": "4HQXoxyVjU2g",
        "colab": {
          "base_uri": "https://localhost:8080/"
        },
        "outputId": "5db8f469-a9fa-466c-c1df-f88f9c0881b2"
      },
      "source": [
        "faturas = []\n",
        "\n",
        "with open(file='./telecom.csv', mode='r', encoding='utf8') as arquivo:\n",
        "  linha = arquivo.readline()\n",
        "  linha = arquivo.readline()\n",
        "  while linha:\n",
        "    try:\n",
        "      fatura = float(linha.strip().split(sep=',')[-3])\n",
        "    except ValueError:\n",
        "      print('Falha ao processar as faturas! Abortando o processamento.')\n",
        "      break\n",
        "    else:\n",
        "      faturas.append(fatura)\n",
        "    linha = arquivo.readline()\n",
        "\n",
        "print(faturas)"
      ],
      "execution_count": 21,
      "outputs": [
        {
          "output_type": "stream",
          "name": "stdout",
          "text": [
            "Falha ao processar as faturas! Abortando o processamento.\n",
            "[]\n"
          ]
        }
      ]
    },
    {
      "cell_type": "code",
      "metadata": {
        "id": "jUPom5w9knls"
      },
      "source": [
        "from functools import reduce\n",
        "\n",
        "def processar_faturas(nome_arquivo: str):\n",
        "\n",
        "  faturas = []\n",
        "\n",
        "  with open(file=nome_arquivo, mode='r', encoding='utf8') as arquivo:\n",
        "    linha = arquivo.readline()\n",
        "    linha = arquivo.readline()\n",
        "    while linha:\n",
        "      try:\n",
        "        fatura = float(linha.strip().split(sep=',')[-3])\n",
        "      except ValueError as exc:\n",
        "        raise ValueError(f'Falha ao processar as faturas devido ao seguinte erro: \"{exc}\"')\n",
        "      else:\n",
        "        faturas.append(fatura)\n",
        "      linha = arquivo.readline()\n",
        "\n",
        "  total_a_pagar = reduce(lambda x, y: x + y, faturas)\n",
        "  total_a_pagar = round(total_a_pagar, 2)\n",
        "\n",
        "  return total_a_pagar"
      ],
      "execution_count": 22,
      "outputs": []
    },
    {
      "cell_type": "code",
      "metadata": {
        "id": "cpwr6hkZkz7S",
        "colab": {
          "base_uri": "https://localhost:8080/"
        },
        "outputId": "25ca73c2-aa84-48ba-8683-2c84f2e230b8"
      },
      "source": [
        "try:\n",
        "  total_a_pagar = processar_faturas(nome_arquivo='./telecom.csv')\n",
        "except Exception as exc:\n",
        "  print(exc)\n",
        "else:\n",
        "  print(total_a_pagar)"
      ],
      "execution_count": null,
      "outputs": [
        {
          "output_type": "stream",
          "text": [
            "Falha ao processar as faturas devido ao seguinte erro: \"could not convert string to float: 'Credit card (automatic)'\"\n"
          ],
          "name": "stdout"
        }
      ]
    }
  ]
}